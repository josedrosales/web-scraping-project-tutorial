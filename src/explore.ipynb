{
    "cells": [
        {
            "cell_type": "markdown",
            "metadata": {},
            "source": [
                "# Explore here\n",
                "\n",
                "It's recommended to use this notebook for exploration purposes."
            ]
        },
        {
            "cell_type": "markdown",
            "metadata": {},
            "source": [
                "Descargar HTML"
            ]
        },
        {
            "cell_type": "code",
            "execution_count": 10,
            "metadata": {},
            "outputs": [
                {
                    "name": "stdout",
                    "output_type": "stream",
                    "text": [
                        "Error al hacer la solicitud. Código de estado: 403\n"
                    ]
                }
            ],
            "source": [
                "import requests\n",
                "import time\n",
                "\n",
                "url = 'https://www.macrotrends.net/stocks/charts/TSLA/tesla/revenue'\n",
                "\n",
                "# Define un nuevo User-Agent que se asemeje al de un navegador común\n",
                "headers = {'User-Agent': 'Mozilla/5.0 (Windows NT 10.0; Win64; x64) AppleWebKit/537.36 (KHTML, like Gecko) Chrome/91.0.4472.124 Safari/537.36'}\n",
                "\n",
                "# Realiza la solicitud con el nuevo User-Agent\n",
                "response = requests.get(url, headers=headers)\n",
                "time.sleep(5)\n",
                "# Verifica si la solicitud fue exitosa (código de estado 200)\n",
                "if response.status_code == 200:\n",
                "    # La obtención del HTML fue exitosa\n",
                "    html_content = response.text\n",
                "    print(html_content)\n",
                "else:\n",
                "    # La obtención del HTML falló\n",
                "    print(f'Error al hacer la solicitud. Código de estado: {response.status_code}')"
            ]
        }
    ],
    "metadata": {
        "kernelspec": {
            "display_name": "Python 3.8.13 64-bit ('3.8.13')",
            "language": "python",
            "name": "python3"
        },
        "language_info": {
            "codemirror_mode": {
                "name": "ipython",
                "version": 3
            },
            "file_extension": ".py",
            "mimetype": "text/x-python",
            "name": "python",
            "nbconvert_exporter": "python",
            "pygments_lexer": "ipython3",
            "version": "3.11.4"
        },
        "orig_nbformat": 4,
        "vscode": {
            "interpreter": {
                "hash": "110cc1dee26208153f2972f08a2ad52b6a56238dc66d48e87fb757ef2996db56"
            }
        }
    },
    "nbformat": 4,
    "nbformat_minor": 2
}
