{
    "cells": [
        {
            "cell_type": "markdown",
            "metadata": {},
            "source": [
                "# Explore here\n",
                "\n",
                "It's recommended to use this notebook for exploration purposes."
            ]
        },
        {
            "cell_type": "code",
            "execution_count": 7,
            "metadata": {},
            "outputs": [
                {
                    "name": "stdout",
                    "output_type": "stream",
                    "text": [
                        "Error al descargar la página. Código de estado: 403\n"
                    ]
                }
            ],
            "source": [
                "import requests\n",
                "import time\n",
                "from bs4 import BeautifulSoup\n",
                "\n",
                "resource_url = \"https://www.macrotrends.net/stocks/charts/TSLA/tesla/revenue\"\n",
                "\n",
                "# Petición para descargar el fichero de Internet\n",
                "response = requests.get(resource_url)\n",
                "\n",
                "# Pausar la ejecución del programa durante 10 segundos\n",
                "time.sleep(10)\n",
                "\n",
                "# Si la petición se ha ejecutado correctamente (código 200), entonces el contenido HTML de la página se ha podido descargar\n",
                "if response.status_code == 200:\n",
                "    # Transformamos el HTML plano en un HTML real (estructurado y anidado, con forma de árbol)\n",
                "    soup = BeautifulSoup(response.text, 'html.parser')\n",
                "    # Aquí puedes seguir con el resto de tu código para analizar la página web\n",
                "else:\n",
                "    print('Error al descargar la página. Código de estado:', response.status_code)"
            ]
        }
    ],
    "metadata": {
        "kernelspec": {
            "display_name": "Python 3.8.13 64-bit ('3.8.13')",
            "language": "python",
            "name": "python3"
        },
        "language_info": {
            "codemirror_mode": {
                "name": "ipython",
                "version": 3
            },
            "file_extension": ".py",
            "mimetype": "text/x-python",
            "name": "python",
            "nbconvert_exporter": "python",
            "pygments_lexer": "ipython3",
            "version": "3.11.4"
        },
        "orig_nbformat": 4,
        "vscode": {
            "interpreter": {
                "hash": "110cc1dee26208153f2972f08a2ad52b6a56238dc66d48e87fb757ef2996db56"
            }
        }
    },
    "nbformat": 4,
    "nbformat_minor": 2
}
